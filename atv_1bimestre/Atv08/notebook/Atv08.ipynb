{
 "cells": [
  {
   "cell_type": "markdown",
   "id": "34f8583f-ebc9-43de-a11c-72642731de0a",
   "metadata": {},
   "source": [
    "## Atv08"
   ]
  },
  {
   "cell_type": "markdown",
   "id": "35837870-5953-4db3-9485-1f459cafda25",
   "metadata": {},
   "source": [
    "Demonstre o trecho do código em que o usuário digita 1 para Primeira Classe ou 2 para Classe Econômica e o sistema atribuir assentos na primeira classe (poltronas 1 a 5) ou um assento na classe econômica (poltronas 6 a 10). "
   ]
  },
  {
   "cell_type": "code",
   "execution_count": null,
   "id": "cc88e22b-1a45-4dbf-93a9-22f1a0f864b1",
   "metadata": {},
   "outputs": [],
   "source": [
    "if (entrada == 1){ //se entrada == primeira classe\n",
    "            int i = 0; // variavel para percorrer o vetor dos assentos\n",
    "            boolean achouAssento = true; //variavel auxiliar para percorrer assentos e achar um assento false\n",
    "\n",
    "            do{ //para percorrer pelo menos uma vez\n",
    "                if (i == 5){ //apenas 5 assentos da primeira classe\n",
    "                    //mensagens de orientação\n",
    "                    System.out.println(\"===========================================\\n\");\n",
    "                    System.out.println(\"Todos os assentos da primeira classe estão cheios\");\n",
    "                    System.out.println(\"===========================================\\n\");\n",
    "\n",
    "                    for(int hj = 5; hj<11; hj++){ //percorrendo o vetor na classe economica\n",
    "                        if (assentos[hj] == false){\n",
    "                            //mensagens de orientação\n",
    "                            System.out.println(\"Possuem assentos disponiveis na classe economica\");\n",
    "                            System.out.println(\"deseja comprar assentos ? (1 (sim) 2 (não)0)\");\n",
    "\n",
    "                            int a = leitor.nextInt(); //entrada para a resposta \n",
    "\n",
    "                            if (a == 1){\n",
    "                                CompraAssento(); //chama a função para a compra novamente\n",
    "                            } else{\n",
    "                                //mensagens de orientação\n",
    "                                System.out.println(\"===========================================\\n\");\n",
    "                                System.out.println(\"Pena que não sera possivel realizar a compra :(\");\n",
    "                                System.out.println(\"===========================================\\n\");\n",
    "                            }\n",
    "\n",
    "                            break; //fim do for\n",
    "\n",
    "                        }\n",
    "                    }\n",
    "\n",
    "                    break;\n",
    "                }\n",
    "\n",
    "                if (assentos[i] == false){ //se achou um assento vazio (false)\n",
    "                    System.out.println(\"digite seu nome para a compra\"); //mensagen de orientação\n",
    "                    String nomeCliente = leitor.next(); //entrada do nome do cliente em String\n",
    "                    nomesClientes[i] = nomeCliente; //adicionando no vetor o nome do cliente\n",
    "                    assentos[i] = true; //colocando que o assento foi vendido\n",
    "                    achouAssento = false; //achou um assento para de percorrer \n",
    "                } else{\n",
    "                    i += 1; //vai para a proxima posição (proximo assento)\n",
    "                }\n",
    "\n",
    "            }while(achouAssento); //repete se nao achou um assento\n",
    "\n",
    "        }\n",
    "        if (entrada == 2){ //se entrada == classe economica\n",
    "            int i = 5; //variavel que começa em 5 (assentos de 5 a 10)\n",
    "            boolean achouAssento = true; //axiliando para achar um assentos\n",
    "\n",
    "            do{ //repete pelo menos uma vez\n",
    "                if (i == 10){ //apenas 5 assentos da classe economica\n",
    "                    System.out.println(\"===========================================\\n\");\n",
    "                    System.out.println(\"Todos os assentos da economica estão cheios\");\n",
    "                    System.out.println(\"===========================================\\n\");\n",
    "\n",
    "                    for(int hj = 0; hj<6; hj++){ //for de 0 até 5 (primeira classe)\n",
    "                        if (assentos[hj] == false){\n",
    "                            System.out.println(\"Possuem assentos disponiveis na primeira classe\");\n",
    "                            System.out.println(\"deseja comprar assentos ? (1 (sim) 2 (não))\");\n",
    "\n",
    "                            int a = leitor.nextInt();\n",
    "\n",
    "                            if (a == 1){\n",
    "                                CompraAssento();\n",
    "                            } else{\n",
    "                                System.out.println(\"===========================================\\n\");\n",
    "                                System.out.println(\"Pena que não sera possivel realizar a compra :(\");\n",
    "                                System.out.println(\"===========================================\\n\");\n",
    "                            }\n",
    "\n",
    "                            break;\n",
    "\n",
    "                        }\n",
    "\n",
    "                    }\n",
    "\n",
    "                    System.out.println(\"===========================================\\n\");\n",
    "                    System.out.println(\"infelizmente não há assentos disponiveis\");\n",
    "                    System.out.println(\"===========================================\\n\");\n",
    "\n",
    "                    break;\n",
    "                }\n",
    "\n",
    "                if (assentos[i] == false){\n",
    "                    System.out.println(\"digite seu nome para a compra\");\n",
    "                    String nomeCliente = leitor.next();\n",
    "                    nomesClientes[i] = nomeCliente;\n",
    "                    assentos[i] = true;\n",
    "                    achouAssento = false;\n",
    "                } else{\n",
    "                    i += 1;\n",
    "                }\n",
    "\n",
    "            }while(achouAssento);\n",
    "        }\n",
    "    }"
   ]
  },
  {
   "cell_type": "markdown",
   "id": "e1e10239-d95b-41e3-b39a-3e6e9a41f3e0",
   "metadata": {},
   "source": [
    "Demonstre o trecho do código em que o sistema exibi o cartão de embarque indicando o número da poltrona da pessoa e se ela está na primeira classe ou na classe econômica."
   ]
  },
  {
   "cell_type": "code",
   "execution_count": null,
   "id": "9a8a31f7-6123-4fec-9661-73fd910dd239",
   "metadata": {},
   "outputs": [],
   "source": [
    "if (assentos[i] == false){ //se achou um assento vazio (false)\n",
    "    System.out.println(\"digite seu nome para a compra\"); //mensagen de orientação\n",
    "    String nomeCliente = leitor.next(); //entrada do nome do cliente em String\n",
    "    nomesClientes[i] = nomeCliente; //adicionando no vetor o nome do cliente\n",
    "    assentos[i] = true; //colocando que o assento foi vendido\n",
    "    achouAssento = false; //achou um assento para de percorrer \n",
    "} else{\n",
    "    i += 1; //vai para a proxima posição (proximo assento)\n",
    "}"
   ]
  },
  {
   "cell_type": "markdown",
   "id": "8d804d1a-3cfc-4290-b86d-9a175cbe19ca",
   "metadata": {},
   "source": [
    "Exiba o trecho do código que demonstra a atribuição de cada assento."
   ]
  },
  {
   "cell_type": "code",
   "execution_count": null,
   "id": "29ad1c04-909f-4f2b-b65d-1cf368e02d98",
   "metadata": {},
   "outputs": [],
   "source": [
    "//mensagens de orientação\n",
    "System.out.println(\"\\n\");\n",
    "System.out.println(\"bem vindo a novo sistema automatizado de reservas. \\n\");\n",
    "        \n",
    "for (int i = 0; i<10; i++){ //repete 10x (10 assentos)\n",
    "\n",
    "    System.out.println(\"\\n A seguir os assentos disponiveis ou não\");\n",
    "    System.out.println(\"primeira classe a seguir: \");\n",
    "    for(int a = 0; a<10; a++){ //repete 10x (10 assentos)\n",
    "        //listando os assentos disponiveis\n",
    "        System.out.println(assentos[a]+ \"\\t\"+ nomesClientes[a]); \n",
    "        if (a == 4){\n",
    "        System.out.println(\"classe economica a seguir: \");\n",
    "        }\n",
    "}"
   ]
  },
  {
   "cell_type": "markdown",
   "id": "dd448b18-205f-4f00-ac04-5de4f8c7a116",
   "metadata": {},
   "source": [
    "Exiba o trecho do código que demonstra quando a classe econômica estiver lotada e o sistema pergunta ao usuário se ela aceita ficar na primeira classe (e vice-versa). "
   ]
  },
  {
   "cell_type": "code",
   "execution_count": null,
   "id": "11d1dda0-878e-49fa-939b-cc0695bfd33c",
   "metadata": {},
   "outputs": [],
   "source": [
    "for (int i = 0; i<10; i++){ //repete 10x (10 assentos)\n",
    "\n",
    "    System.out.println(\"\\n A seguir os assentos disponiveis ou não\");\n",
    "    System.out.println(\"primeira classe a seguir: \");\n",
    "    for(int a = 0; a<10; a++){ //repete 10x (10 assentos)\n",
    "        //listando os assentos disponiveis\n",
    "        System.out.println(assentos[a]+ \"\\t\"+ nomesClientes[a]); \n",
    "        if (a == 4){\n",
    "        System.out.println(\"classe economica a seguir: \");\n",
    "        }\n",
    "}"
   ]
  }
 ],
 "metadata": {
  "kernelspec": {
   "display_name": "Java",
   "language": "java",
   "name": "java"
  },
  "language_info": {
   "codemirror_mode": "text/x-java",
   "file_extension": ".java",
   "mimetype": "",
   "name": "Java",
   "nbconverter_exporter": "",
   "version": "1.8.0_121"
  }
 },
 "nbformat": 4,
 "nbformat_minor": 5
}
